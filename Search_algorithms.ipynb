{
  "nbformat": 4,
  "nbformat_minor": 0,
  "metadata": {
    "colab": {
      "name": "Search algorithms.ipynb",
      "provenance": [],
      "collapsed_sections": [],
      "authorship_tag": "ABX9TyP1KWtLQ8vZTqq8wP0EPDYp",
      "include_colab_link": true
    },
    "kernelspec": {
      "name": "python3",
      "display_name": "Python 3"
    }
  },
  "cells": [
    {
      "cell_type": "markdown",
      "metadata": {
        "id": "view-in-github",
        "colab_type": "text"
      },
      "source": [
        "<a href=\"https://colab.research.google.com/github/AaronGaribay/ComputerScienceImplementations/blob/main/Search_algorithms.ipynb\" target=\"_parent\"><img src=\"https://colab.research.google.com/assets/colab-badge.svg\" alt=\"Open In Colab\"/></a>"
      ]
    },
    {
      "cell_type": "code",
      "metadata": {
        "id": "F8tV-u_KCOJG"
      },
      "source": [
        "def linear_search(entries:list, query:int) -> bool:\r\n",
        "    \"\"\"\r\n",
        "    This function is an implementation of linear search\r\n",
        "    linear search has an O(n) complexity\r\n",
        "\r\n",
        "    Args:\r\n",
        "        entries::list[int]\r\n",
        "            The list in which perform the search\r\n",
        "        query::int\r\n",
        "            The numer to be searched in entries\r\n",
        "    \r\n",
        "    Returns:\r\n",
        "        matched::bool\r\n",
        "            Either or not was the query found in entries\r\n",
        "    \"\"\"\r\n",
        "    matched = False\r\n",
        "    for entrie in entries:\r\n",
        "        if entrie == query:\r\n",
        "            matched = True\r\n",
        "            break\r\n",
        "    return matched"
      ],
      "execution_count": 3,
      "outputs": []
    },
    {
      "cell_type": "code",
      "metadata": {
        "id": "s7wqKdEqf-V7"
      },
      "source": [
        "def binary_search(entries:list, query:int) -> bool:\r\n",
        "    \"\"\"\r\n",
        "    This function is an implementation of linear search\r\n",
        "    linear search has an O(log n) complexity\r\n",
        "\r\n",
        "    Args:\r\n",
        "        entries::list[int]\r\n",
        "            The list in which perform the search\r\n",
        "        query::int\r\n",
        "            The numer to be searched in entries\r\n",
        "\r\n",
        "    Returns:\r\n",
        "        matched::bool\r\n",
        "            Either or not was the query found in entries\r\n",
        "\r\n",
        "    \"\"\"\r\n",
        "    sub_entries_len = len(entries)\r\n",
        "    half_index = sub_entries_len//2\r\n",
        "    \r\n",
        "    if sub_entries_len == 1 and query != entries[0]:\r\n",
        "        return False\r\n",
        "    elif query < entries[half_index]:\r\n",
        "        return binary_search(entries[0:half_index], query)\r\n",
        "    elif query > entries[half_index]:\r\n",
        "        return binary_search(entries[half_index:sub_entries_len], query)\r\n",
        "    else:\r\n",
        "        return True\r\n"
      ],
      "execution_count": 30,
      "outputs": []
    },
    {
      "cell_type": "code",
      "metadata": {
        "colab": {
          "base_uri": "https://localhost:8080/"
        },
        "id": "-1VAYkb9-3F6",
        "outputId": "52f4b0e8-b435-4966-8646-203067d3a32f"
      },
      "source": [
        "import random\r\n",
        "\r\n",
        "def generate_entries(n:int, floor: int=0 , ceil: int=1000) -> list:\r\n",
        "    \"\"\"\r\n",
        "    This function generates a list of len(n)\r\n",
        "    with random values\r\n",
        "\r\n",
        "    Args:\r\n",
        "        n::int\r\n",
        "            The requested len of the list generated\r\n",
        "        floor::int default=0\r\n",
        "            Minimum posible value of list elements\r\n",
        "        ceil::int default=1000\r\n",
        "            Maximum posible value of list elements\r\n",
        "    \r\n",
        "    Returns:\r\n",
        "        ::list[int]\r\n",
        "            list with random values\r\n",
        "    \"\"\"\r\n",
        "    return [random.randint(floor, ceil) for i in range(0,n)]\r\n",
        "\r\n",
        "entries = generate_entries(12, floor=1, ceil=12)\r\n",
        "query = 10\r\n",
        "print(entries)\r\n",
        "print(query)\r\n",
        "\r\n",
        "print(f\"\"\"      Linear Search implementation:\r\n",
        "The number: {query} was \r\n",
        "{'' if linear_search(entries, query) else 'NOT '}FOUND \r\n",
        "in entries\r\n",
        "\"\"\")\r\n",
        "\r\n",
        "print(f\"\"\"      Binary Search implementation:\r\n",
        "The number: {query} was \r\n",
        "{'' if binary_search(sorted(entries), query) else 'NOT '}FOUND \r\n",
        "in entries\r\n",
        "\"\"\")\r\n",
        "    "
      ],
      "execution_count": 32,
      "outputs": [
        {
          "output_type": "stream",
          "text": [
            "[5, 11, 6, 1, 6, 10, 10, 10, 10, 11, 10, 2]\n",
            "10\n",
            "      Linear Search implementation:\n",
            "The number: 10 was \n",
            "FOUND \n",
            "in entries\n",
            "\n",
            "      Binary Search implementation:\n",
            "The number: 10 was \n",
            "FOUND \n",
            "in entries\n",
            "\n"
          ],
          "name": "stdout"
        }
      ]
    },
    {
      "cell_type": "code",
      "metadata": {
        "colab": {
          "base_uri": "https://localhost:8080/"
        },
        "id": "Izvg6ZhJJhIv",
        "outputId": "9c6f512a-861b-472c-def6-7879ddd70bc0"
      },
      "source": [
        "import sys\r\n",
        "print(sys.version)\r\n",
        "int = 9"
      ],
      "execution_count": null,
      "outputs": [
        {
          "output_type": "stream",
          "text": [
            "3.6.9 (default, Oct  8 2020, 12:12:24) \n",
            "[GCC 8.4.0]\n"
          ],
          "name": "stdout"
        }
      ]
    }
  ]
}