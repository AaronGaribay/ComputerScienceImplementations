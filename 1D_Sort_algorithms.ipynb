{
  "nbformat": 4,
  "nbformat_minor": 0,
  "metadata": {
    "colab": {
      "name": "1D_Sort_algorithms.ipynb",
      "provenance": [],
      "collapsed_sections": [],
      "authorship_tag": "ABX9TyNZsqkSQW11U/btXDpr1VnC",
      "include_colab_link": true
    },
    "kernelspec": {
      "name": "python3",
      "display_name": "Python 3"
    }
  },
  "cells": [
    {
      "cell_type": "markdown",
      "metadata": {
        "id": "view-in-github",
        "colab_type": "text"
      },
      "source": [
        "<a href=\"https://colab.research.google.com/github/AaronGaribay/ComputerScienceImplementations/blob/main/1D_Sort_algorithms.ipynb\" target=\"_parent\"><img src=\"https://colab.research.google.com/assets/colab-badge.svg\" alt=\"Open In Colab\"/></a>"
      ]
    },
    {
      "cell_type": "code",
      "metadata": {
        "id": "tHBH1rhpzRbr"
      },
      "source": [
        "def bubble_sort(entries:list) -> list:\r\n",
        "    \"\"\"\r\n",
        "    This function is an implementation of bubble_sort\r\n",
        "    This algorithm has a complexity of O(n**2)\r\n",
        "\r\n",
        "    Args:\r\n",
        "        entries::list\r\n",
        "            The list to be sorted\r\n",
        "     Returns:\r\n",
        "        ::list\r\n",
        "            The list sorted\r\n",
        "    \"\"\"\r\n",
        "    n = len(entries)\r\n",
        "    steps = 0\r\n",
        "    for i in range(n):\r\n",
        "        steps += 1\r\n",
        "        for j in range(0, n - i -1):\r\n",
        "            steps += 1\r\n",
        "            if entries[j] > entries[j+1]:\r\n",
        "                steps += 1\r\n",
        "                entries[j], entries[j+1] = entries[j+1], entries[j]\r\n",
        "    print(f\"The algorithm tooks {steps} steps with a len(entries) = {n}\")\r\n",
        "    return entries"
      ],
      "execution_count": 7,
      "outputs": []
    },
    {
      "cell_type": "code",
      "metadata": {
        "id": "RBBe_F-O5zBz"
      },
      "source": [
        "def insert_sort(entries: list) -> list:\r\n",
        "    \"\"\"\r\n",
        "    This function is an implementation of insert_sort\r\n",
        "    This algorithm has a complexity of O(n**2)\r\n",
        "\r\n",
        "    Args:\r\n",
        "        entries::list\r\n",
        "            The list to be sorted\r\n",
        "     Returns:\r\n",
        "        ::list\r\n",
        "            The list sorted\r\n",
        "    \"\"\"\r\n",
        "    for i in range(1, len(entries)):\r\n",
        "        actual_value = entries[i]\r\n",
        "        actual_pos = i\r\n",
        "\r\n",
        "        while actual_pos > 0 and entries[actual_pos - 1] > actual_value:\r\n",
        "            entries[actual_pos] = entries[actual_pos - 1]\r\n",
        "            actual_pos -= 1\r\n",
        "        \r\n",
        "        entries[actual_pos] = actual_value\r\n",
        "    return entries\r\n",
        "\r\n"
      ],
      "execution_count": 22,
      "outputs": []
    },
    {
      "cell_type": "code",
      "metadata": {
        "colab": {
          "base_uri": "https://localhost:8080/"
        },
        "id": "XDqyM18Szemg",
        "outputId": "36177543-2ceb-4fd4-887e-7b3fa99ea59c"
      },
      "source": [
        "# Bubble sort results\r\n",
        "import random\r\n",
        "entries = [random.randint(0,100) for i in range(10)]\r\n",
        "\r\n",
        "# Best case\r\n",
        "entries = sorted(entries)\r\n",
        "sorted_entries = bubble_sort(entries)\r\n",
        "print(sorted_entries)\r\n",
        "\r\n",
        "# Worst case if every element in list is unique\r\n",
        "entries.reverse()\r\n",
        "sorted_entries = bubble_sort(entries)\r\n",
        "print(sorted_entries)"
      ],
      "execution_count": 17,
      "outputs": [
        {
          "output_type": "stream",
          "text": [
            "The algorithm tooks 55 steps with a len(entries) = 10\n",
            "[6, 12, 23, 23, 42, 49, 51, 57, 82, 96]\n",
            "The algorithm tooks 99 steps with a len(entries) = 10\n",
            "[6, 12, 23, 23, 42, 49, 51, 57, 82, 96]\n"
          ],
          "name": "stdout"
        }
      ]
    },
    {
      "cell_type": "code",
      "metadata": {
        "colab": {
          "base_uri": "https://localhost:8080/"
        },
        "id": "Qpn9mzyK8iXa",
        "outputId": "d5695e77-cecb-40d1-8404-76b18b97510e"
      },
      "source": [
        "# Insert sort results\r\n",
        "import random\r\n",
        "entries = [random.randint(0,100) for i in range(10)]\r\n",
        "\r\n",
        "# Best case\r\n",
        "entries = sorted(entries)\r\n",
        "sorted_entries = insert_sort(entries)\r\n",
        "print(sorted_entries)\r\n",
        "\r\n",
        "# Worst case if every element in list is unique\r\n",
        "entries.reverse()\r\n",
        "sorted_entries = insert_sort(entries)\r\n",
        "print(sorted_entries)"
      ],
      "execution_count": 23,
      "outputs": [
        {
          "output_type": "stream",
          "text": [
            "[16, 21, 49, 52, 55, 56, 79, 81, 83, 95]\n",
            "[16, 21, 49, 52, 55, 56, 79, 81, 83, 95]\n"
          ],
          "name": "stdout"
        }
      ]
    },
    {
      "cell_type": "code",
      "metadata": {
        "colab": {
          "base_uri": "https://localhost:8080/"
        },
        "id": "0mloLiqx0_EA",
        "outputId": "9f18dfe4-2b48-423a-da8b-7086bb520e4b"
      },
      "source": [
        "a = sorted([1,3,2])\r\n",
        "a.pop(0)"
      ],
      "execution_count": 18,
      "outputs": [
        {
          "output_type": "execute_result",
          "data": {
            "text/plain": [
              "1"
            ]
          },
          "metadata": {
            "tags": []
          },
          "execution_count": 18
        }
      ]
    }
  ]
}