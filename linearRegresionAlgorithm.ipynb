{
  "nbformat": 4,
  "nbformat_minor": 0,
  "metadata": {
    "colab": {
      "name": "linearRegresionAlgorithm.ipynb",
      "provenance": [],
      "authorship_tag": "ABX9TyOWcC1VQZJsM7Emm3v6s+V3",
      "include_colab_link": true
    },
    "kernelspec": {
      "name": "python3",
      "display_name": "Python 3"
    },
    "language_info": {
      "name": "python"
    }
  },
  "cells": [
    {
      "cell_type": "markdown",
      "metadata": {
        "id": "view-in-github",
        "colab_type": "text"
      },
      "source": [
        "<a href=\"https://colab.research.google.com/github/AaronGaribay/ComputerScienceImplementations/blob/main/linearRegresionAlgorithm.ipynb\" target=\"_parent\"><img src=\"https://colab.research.google.com/assets/colab-badge.svg\" alt=\"Open In Colab\"/></a>"
      ]
    },
    {
      "cell_type": "code",
      "metadata": {
        "id": "S_XxBPf1fXEE"
      },
      "source": [
        "import numpy as np\n",
        "import matplotlib.pyplot as plt"
      ],
      "execution_count": null,
      "outputs": []
    },
    {
      "cell_type": "markdown",
      "metadata": {
        "id": "MxBPVHJQkeAT"
      },
      "source": [
        "Funcion para estimar coeficientes"
      ]
    },
    {
      "cell_type": "code",
      "metadata": {
        "id": "saan5Djlfu7u"
      },
      "source": [
        "def estimate_b0_bi(x, y):\n",
        "    n = np.size(x)\n",
        "\n",
        "    m_x, m_y = np.mean(x), np.mean(y)\n",
        "    sum_x_y = np.sum((x - m_x) * (y - m_y))\n",
        "    sum_x_x = np.sum((x - m_x) ** 2)\n",
        "\n",
        "    b1 = sum_x_y / sum_x_x\n",
        "    b0 = m_y - b1 * m_x\n",
        "\n",
        "    return b0, b1"
      ],
      "execution_count": null,
      "outputs": []
    },
    {
      "cell_type": "markdown",
      "metadata": {
        "id": "9BRHlVtokh-4"
      },
      "source": [
        "Funcion para graficar"
      ]
    },
    {
      "cell_type": "code",
      "metadata": {
        "id": "-Jl4BZoUkbGS"
      },
      "source": [
        "def plot_regression(x, y, b):\n",
        "    plt.scatter(x, y, color=\"g\", marker=\"o\", s=30)\n",
        "\n",
        "    y_pred = b[0] + b[1] * x\n",
        "    plt.plot(x, y_pred, color=\"b\")\n",
        "\n",
        "    plt.xlabel('x - Independiente')\n",
        "    plt.ylabel('y- Dependiente')\n",
        "\n",
        "    plt.show()"
      ],
      "execution_count": null,
      "outputs": []
    },
    {
      "cell_type": "markdown",
      "metadata": {
        "id": "olOzcBLjl61L"
      },
      "source": [
        "Probando"
      ]
    },
    {
      "cell_type": "code",
      "metadata": {
        "id": "quI6EBTwl4oD"
      },
      "source": [
        "def main():\n",
        "    x = np.array([1, 2, 3, 4, 5])\n",
        "    y = np.array([2, 3, 5, 6, 5])\n",
        "\n",
        "    b = estimate_b0_bi(x, y)\n",
        "    print(f\"b0 = {b[0]}, b1 = {b[1]}\")\n",
        "\n",
        "    plot_regression(x, y, b)"
      ],
      "execution_count": null,
      "outputs": []
    },
    {
      "cell_type": "code",
      "metadata": {
        "colab": {
          "base_uri": "https://localhost:8080/",
          "height": 296
        },
        "id": "UKwBXwfKm1Mr",
        "outputId": "6e1b1e49-72c7-4079-a20d-71cc1ea3245a"
      },
      "source": [
        "if __name__ == \"__main__\":\n",
        "    main()"
      ],
      "execution_count": null,
      "outputs": [
        {
          "output_type": "stream",
          "text": [
            "b0 = 1.5, b1 = 0.9\n"
          ],
          "name": "stdout"
        },
        {
          "output_type": "display_data",
          "data": {
            "image/png": "[encoded data removed]",
            "text/plain": [
              "<Figure size 432x288 with 1 Axes>"
            ]
          },
          "metadata": {
            "tags": [],
            "needs_background": "light"
          }
        }
      ]
    }
  ]
}